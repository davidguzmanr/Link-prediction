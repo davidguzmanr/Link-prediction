{
 "cells": [
  {
   "cell_type": "code",
   "execution_count": 1,
   "metadata": {
    "id": "eSi7LsrV29jM"
   },
   "outputs": [],
   "source": [
    "import pandas as pd\n",
    "import numpy as np\n",
    "from scipy.sparse import csr_matrix "
   ]
  },
  {
   "cell_type": "markdown",
   "metadata": {
    "id": "vcWsN5vnMzaL"
   },
   "source": [
    "## Sparse matrix"
   ]
  },
  {
   "cell_type": "code",
   "execution_count": 2,
   "metadata": {
    "colab": {
     "base_uri": "https://localhost:8080/",
     "height": 204
    },
    "id": "eXfgqMAF29jV",
    "outputId": "66755563-2f84-43db-c239-f002404a5a0a"
   },
   "outputs": [
    {
     "data": {
      "text/html": [
       "<div>\n",
       "<style scoped>\n",
       "    .dataframe tbody tr th:only-of-type {\n",
       "        vertical-align: middle;\n",
       "    }\n",
       "\n",
       "    .dataframe tbody tr th {\n",
       "        vertical-align: top;\n",
       "    }\n",
       "\n",
       "    .dataframe thead th {\n",
       "        text-align: right;\n",
       "    }\n",
       "</style>\n",
       "<table border=\"1\" class=\"dataframe\">\n",
       "  <thead>\n",
       "    <tr style=\"text-align: right;\">\n",
       "      <th></th>\n",
       "      <th>id_article</th>\n",
       "      <th>author</th>\n",
       "      <th>year</th>\n",
       "    </tr>\n",
       "  </thead>\n",
       "  <tbody>\n",
       "    <tr>\n",
       "      <th>0</th>\n",
       "      <td>conf/issac/Kajler92</td>\n",
       "      <td>Norbert Kajler</td>\n",
       "      <td>1992</td>\n",
       "    </tr>\n",
       "    <tr>\n",
       "      <th>1</th>\n",
       "      <td>conf/issac/BiniP90</td>\n",
       "      <td>Dario Bini</td>\n",
       "      <td>1990</td>\n",
       "    </tr>\n",
       "    <tr>\n",
       "      <th>2</th>\n",
       "      <td>conf/issac/BiniP90</td>\n",
       "      <td>Victor Y. Pan</td>\n",
       "      <td>1990</td>\n",
       "    </tr>\n",
       "    <tr>\n",
       "      <th>3</th>\n",
       "      <td>conf/issac/SteinZ91</td>\n",
       "      <td>Andreas Stein</td>\n",
       "      <td>1991</td>\n",
       "    </tr>\n",
       "    <tr>\n",
       "      <th>4</th>\n",
       "      <td>conf/issac/SteinZ91</td>\n",
       "      <td>Horst Günter Zimmer</td>\n",
       "      <td>1991</td>\n",
       "    </tr>\n",
       "  </tbody>\n",
       "</table>\n",
       "</div>"
      ],
      "text/plain": [
       "            id_article               author  year\n",
       "0  conf/issac/Kajler92       Norbert Kajler  1992\n",
       "1   conf/issac/BiniP90           Dario Bini  1990\n",
       "2   conf/issac/BiniP90        Victor Y. Pan  1990\n",
       "3  conf/issac/SteinZ91        Andreas Stein  1991\n",
       "4  conf/issac/SteinZ91  Horst Günter Zimmer  1991"
      ]
     },
     "execution_count": 2,
     "metadata": {},
     "output_type": "execute_result"
    }
   ],
   "source": [
    "df1 = pd.read_csv('../Data/1990_2000_1_filtered_authorships.csv')\n",
    "df2 = pd.read_csv('../Data/1990_2000_2_filtered_authorships.csv')\n",
    "df3 = pd.read_csv('../Data/2001_2002_filtered_authorships.csv')\n",
    "df4 = pd.read_csv('../Data/2003_2004_filtered_authorships.csv')\n",
    "\n",
    "df = pd.concat([df1, df2, df3, df4])\n",
    "df.head()"
   ]
  },
  {
   "cell_type": "code",
   "execution_count": 3,
   "metadata": {
    "colab": {
     "base_uri": "https://localhost:8080/"
    },
    "id": "rjPPUbsh29jY",
    "outputId": "09abd87f-d0e2-46d1-df48-752e0505199b"
   },
   "outputs": [
    {
     "data": {
      "text/plain": [
       "(712350, 93912)"
      ]
     },
     "execution_count": 3,
     "metadata": {},
     "output_type": "execute_result"
    }
   ],
   "source": [
    "df['id_article'].unique().size, df['author'].unique().size"
   ]
  },
  {
   "cell_type": "code",
   "execution_count": 4,
   "metadata": {
    "id": "HAaLve_z29jZ"
   },
   "outputs": [],
   "source": [
    "authors_dict = dict(zip(df['author'].unique(), np.arange(df['author'].unique().size)))\n",
    "articles_dict = dict(zip(df['id_article'].unique(), np.arange(df['id_article'].unique().size)))"
   ]
  },
  {
   "cell_type": "code",
   "execution_count": 5,
   "metadata": {
    "id": "pEYIBAwo29jZ"
   },
   "outputs": [],
   "source": [
    "rows = [authors_dict[x] for x in df['author'].values]\n",
    "cols = [articles_dict[x] for x in df['id_article'].values]\n",
    "data = np.ones(df.shape[0])\n",
    "\n",
    "X = csr_matrix((data, (rows, cols)))"
   ]
  },
  {
   "cell_type": "markdown",
   "metadata": {
    "id": "R1ScXCifM_bL"
   },
   "source": [
    "## SVD"
   ]
  },
  {
   "cell_type": "code",
   "execution_count": 6,
   "metadata": {
    "id": "XaNxzZ_K29ja"
   },
   "outputs": [],
   "source": [
    "from sklearn.decomposition import TruncatedSVD"
   ]
  },
  {
   "cell_type": "code",
   "execution_count": 7,
   "metadata": {
    "colab": {
     "base_uri": "https://localhost:8080/"
    },
    "id": "rQOOAHiX29jb",
    "outputId": "63526ef0-65f0-4325-beb7-7e90806e7393"
   },
   "outputs": [
    {
     "data": {
      "text/plain": [
       "TruncatedSVD(n_components=10, n_iter=10, random_state=42)"
      ]
     },
     "execution_count": 7,
     "metadata": {},
     "output_type": "execute_result"
    }
   ],
   "source": [
    "svd = TruncatedSVD(n_components=10, n_iter=10, random_state=42)\n",
    "svd.fit(X)"
   ]
  },
  {
   "cell_type": "code",
   "execution_count": 8,
   "metadata": {
    "colab": {
     "base_uri": "https://localhost:8080/"
    },
    "id": "HIKnDzVu29jb",
    "outputId": "cee5d320-1c9a-4215-a0f2-caecb6c4db37"
   },
   "outputs": [
    {
     "data": {
      "text/plain": [
       "(93912, 10)"
      ]
     },
     "execution_count": 8,
     "metadata": {},
     "output_type": "execute_result"
    }
   ],
   "source": [
    "X_svd = svd.transform(X)\n",
    "X_svd.shape"
   ]
  },
  {
   "cell_type": "markdown",
   "metadata": {
    "id": "9Q5saI5rNG48"
   },
   "source": [
    "## Evaluation"
   ]
  },
  {
   "cell_type": "code",
   "execution_count": 9,
   "metadata": {},
   "outputs": [],
   "source": [
    "from sklearn.metrics.pairwise import cosine_similarity\n",
    "from sklearn.metrics.pairwise import euclidean_distances\n",
    "\n",
    "from sklearn.metrics import classification_report, f1_score, accuracy_score"
   ]
  },
  {
   "cell_type": "code",
   "execution_count": 10,
   "metadata": {
    "colab": {
     "base_uri": "https://localhost:8080/",
     "height": 204
    },
    "id": "FovuU1Fz29jc",
    "outputId": "f8b5261f-c0e2-416a-ddcf-6f0f0b78226b"
   },
   "outputs": [
    {
     "data": {
      "text/html": [
       "<div>\n",
       "<style scoped>\n",
       "    .dataframe tbody tr th:only-of-type {\n",
       "        vertical-align: middle;\n",
       "    }\n",
       "\n",
       "    .dataframe tbody tr th {\n",
       "        vertical-align: top;\n",
       "    }\n",
       "\n",
       "    .dataframe thead th {\n",
       "        text-align: right;\n",
       "    }\n",
       "</style>\n",
       "<table border=\"1\" class=\"dataframe\">\n",
       "  <thead>\n",
       "    <tr style=\"text-align: right;\">\n",
       "      <th></th>\n",
       "      <th>source</th>\n",
       "      <th>target</th>\n",
       "      <th>connected</th>\n",
       "    </tr>\n",
       "  </thead>\n",
       "  <tbody>\n",
       "    <tr>\n",
       "      <th>0</th>\n",
       "      <td>Robert Milne</td>\n",
       "      <td>Louise Travé-Massuyès</td>\n",
       "      <td>1.0</td>\n",
       "    </tr>\n",
       "    <tr>\n",
       "      <th>1</th>\n",
       "      <td>Nando de Freitas</td>\n",
       "      <td>Arnaud Doucet</td>\n",
       "      <td>1.0</td>\n",
       "    </tr>\n",
       "    <tr>\n",
       "      <th>2</th>\n",
       "      <td>Yoshifumi Ooyama</td>\n",
       "      <td>Satoshi Shirai</td>\n",
       "      <td>1.0</td>\n",
       "    </tr>\n",
       "    <tr>\n",
       "      <th>3</th>\n",
       "      <td>Leen-Kiat Soh</td>\n",
       "      <td>Costas Tsatsoulis</td>\n",
       "      <td>1.0</td>\n",
       "    </tr>\n",
       "    <tr>\n",
       "      <th>4</th>\n",
       "      <td>Ya Xu</td>\n",
       "      <td>Deborah Estrin</td>\n",
       "      <td>1.0</td>\n",
       "    </tr>\n",
       "  </tbody>\n",
       "</table>\n",
       "</div>"
      ],
      "text/plain": [
       "             source                 target  connected\n",
       "0      Robert Milne  Louise Travé-Massuyès        1.0\n",
       "1  Nando de Freitas          Arnaud Doucet        1.0\n",
       "2  Yoshifumi Ooyama         Satoshi Shirai        1.0\n",
       "3     Leen-Kiat Soh      Costas Tsatsoulis        1.0\n",
       "4             Ya Xu         Deborah Estrin        1.0"
      ]
     },
     "execution_count": 10,
     "metadata": {},
     "output_type": "execute_result"
    }
   ],
   "source": [
    "df_test = pd.read_csv('../Data/sample_features_test2021-01-05.csv')\n",
    "df_test = df_test[['source', 'target', 'connected']]\n",
    "df_test.head()"
   ]
  },
  {
   "cell_type": "markdown",
   "metadata": {
    "id": "BUJlo1TENJwR"
   },
   "source": [
    "### Cosine similarity"
   ]
  },
  {
   "cell_type": "code",
   "execution_count": 11,
   "metadata": {
    "id": "I83XMzmR70YY"
   },
   "outputs": [],
   "source": [
    "y_pred = []\n",
    "for source, target in zip(df_test['source'], df_test['target']):\n",
    "    X_source = X_svd[authors_dict[source], :].reshape(1,-1)\n",
    "    X_target = X_svd[authors_dict[target], :].reshape(1,-1)\n",
    "\n",
    "    cos_sim = cosine_similarity(X_source, X_target)[0][0]\n",
    "    pred = 1 if cos_sim > 0.5 else 0\n",
    "    y_pred.append(pred)\n",
    "\n",
    "df_test['cosine'] = y_pred"
   ]
  },
  {
   "cell_type": "code",
   "execution_count": 12,
   "metadata": {
    "colab": {
     "base_uri": "https://localhost:8080/"
    },
    "id": "aBX4Dlry-sWV",
    "outputId": "be874b34-a1e3-477d-e1d7-24241c2ed597"
   },
   "outputs": [
    {
     "name": "stdout",
     "output_type": "stream",
     "text": [
      "              precision    recall  f1-score   support\n",
      "\n",
      "         0.0       0.79      0.83      0.81      5000\n",
      "         1.0       0.82      0.77      0.79      4860\n",
      "\n",
      "    accuracy                           0.80      9860\n",
      "   macro avg       0.80      0.80      0.80      9860\n",
      "weighted avg       0.80      0.80      0.80      9860\n",
      "\n",
      "F1: 0.7944\n",
      "Accuracy: 0.8025\n"
     ]
    }
   ],
   "source": [
    "print(classification_report(df_test['connected'], df_test['cosine']))\n",
    "print('F1: {:.4f}'.format(f1_score(df_test['connected'], df_test['cosine'])))\n",
    "print('Accuracy: {:.4f}'.format(accuracy_score(df_test['connected'], df_test['cosine'])))"
   ]
  },
  {
   "cell_type": "markdown",
   "metadata": {
    "id": "EWEoQGW2NhJ0"
   },
   "source": [
    "### Euclidean"
   ]
  },
  {
   "cell_type": "code",
   "execution_count": 13,
   "metadata": {
    "id": "KKEpO05y_WAA"
   },
   "outputs": [],
   "source": [
    "y_pred = []\n",
    "for source, target in zip(df_test['source'], df_test['target']):\n",
    "    X_source = X_svd[authors_dict[source], :].reshape(1,-1)\n",
    "    X_target = X_svd[authors_dict[target], :].reshape(1,-1)\n",
    "\n",
    "    euclidean_dist = euclidean_distances(X_source, X_target)[0][0]\n",
    "    y_pred.append(euclidean_dist)\n",
    "\n",
    "# Es mejor normalizar para poder hacer la comparación\n",
    "y_pred = np.array(y_pred)/np.max(y_pred)\n",
    "y_pred = [1 if y < 0.5 else 0 for y in y_pred]\n",
    "\n",
    "df_test['euclidean'] = y_pred"
   ]
  },
  {
   "cell_type": "code",
   "execution_count": 14,
   "metadata": {
    "colab": {
     "base_uri": "https://localhost:8080/"
    },
    "id": "oHPOHaEVQFyT",
    "outputId": "5d37e4d3-bf23-4897-afbd-fd1e22fd2855"
   },
   "outputs": [
    {
     "name": "stdout",
     "output_type": "stream",
     "text": [
      "              precision    recall  f1-score   support\n",
      "\n",
      "         0.0       0.05      0.00      0.00      5000\n",
      "         1.0       0.49      1.00      0.66      4860\n",
      "\n",
      "    accuracy                           0.49      9860\n",
      "   macro avg       0.27      0.50      0.33      9860\n",
      "weighted avg       0.27      0.49      0.32      9860\n",
      "\n",
      "F1: 0.6586\n",
      "Accuracy: 0.4911\n"
     ]
    }
   ],
   "source": [
    "print(classification_report(df_test['connected'], df_test['euclidean']))\n",
    "print('F1: {:.4f}'.format(f1_score(df_test['connected'], df_test['euclidean'])))\n",
    "print('Accuracy: {:.4f}'.format(accuracy_score(df_test['connected'], df_test['euclidean'])))"
   ]
  }
 ],
 "metadata": {
  "colab": {
   "collapsed_sections": [],
   "name": "Authors vs papers.ipynb",
   "provenance": [],
   "toc_visible": true
  },
  "kernelspec": {
   "display_name": "Python 3",
   "language": "python",
   "name": "python3"
  },
  "language_info": {
   "codemirror_mode": {
    "name": "ipython",
    "version": 3
   },
   "file_extension": ".py",
   "mimetype": "text/x-python",
   "name": "python",
   "nbconvert_exporter": "python",
   "pygments_lexer": "ipython3",
   "version": "3.7.3"
  }
 },
 "nbformat": 4,
 "nbformat_minor": 1
}
