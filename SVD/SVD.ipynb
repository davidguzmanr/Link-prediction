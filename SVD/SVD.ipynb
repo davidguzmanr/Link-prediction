{
 "cells": [
  {
   "cell_type": "code",
   "execution_count": 1,
   "metadata": {
    "id": "eSi7LsrV29jM"
   },
   "outputs": [],
   "source": [
    "import pandas as pd\n",
    "import numpy as np\n",
    "from scipy.sparse import csr_matrix "
   ]
  },
  {
   "cell_type": "markdown",
   "metadata": {
    "id": "vcWsN5vnMzaL"
   },
   "source": [
    "## Sparse matrix"
   ]
  },
  {
   "cell_type": "code",
   "execution_count": 4,
   "metadata": {
    "colab": {
     "base_uri": "https://localhost:8080/",
     "height": 204
    },
    "id": "eXfgqMAF29jV",
    "outputId": "66755563-2f84-43db-c239-f002404a5a0a"
   },
   "outputs": [
    {
     "data": {
      "text/html": [
       "<div>\n",
       "<style scoped>\n",
       "    .dataframe tbody tr th:only-of-type {\n",
       "        vertical-align: middle;\n",
       "    }\n",
       "\n",
       "    .dataframe tbody tr th {\n",
       "        vertical-align: top;\n",
       "    }\n",
       "\n",
       "    .dataframe thead th {\n",
       "        text-align: right;\n",
       "    }\n",
       "</style>\n",
       "<table border=\"1\" class=\"dataframe\">\n",
       "  <thead>\n",
       "    <tr style=\"text-align: right;\">\n",
       "      <th></th>\n",
       "      <th>id_article</th>\n",
       "      <th>author</th>\n",
       "      <th>year</th>\n",
       "    </tr>\n",
       "  </thead>\n",
       "  <tbody>\n",
       "    <tr>\n",
       "      <th>0</th>\n",
       "      <td>conf/issac/Kajler92</td>\n",
       "      <td>Norbert Kajler</td>\n",
       "      <td>1992</td>\n",
       "    </tr>\n",
       "    <tr>\n",
       "      <th>1</th>\n",
       "      <td>conf/issac/BiniP90</td>\n",
       "      <td>Dario Bini</td>\n",
       "      <td>1990</td>\n",
       "    </tr>\n",
       "    <tr>\n",
       "      <th>2</th>\n",
       "      <td>conf/issac/BiniP90</td>\n",
       "      <td>Victor Y. Pan</td>\n",
       "      <td>1990</td>\n",
       "    </tr>\n",
       "    <tr>\n",
       "      <th>3</th>\n",
       "      <td>conf/issac/SteinZ91</td>\n",
       "      <td>Andreas Stein</td>\n",
       "      <td>1991</td>\n",
       "    </tr>\n",
       "    <tr>\n",
       "      <th>4</th>\n",
       "      <td>conf/issac/SteinZ91</td>\n",
       "      <td>Horst Günter Zimmer</td>\n",
       "      <td>1991</td>\n",
       "    </tr>\n",
       "  </tbody>\n",
       "</table>\n",
       "</div>"
      ],
      "text/plain": [
       "            id_article               author  year\n",
       "0  conf/issac/Kajler92       Norbert Kajler  1992\n",
       "1   conf/issac/BiniP90           Dario Bini  1990\n",
       "2   conf/issac/BiniP90        Victor Y. Pan  1990\n",
       "3  conf/issac/SteinZ91        Andreas Stein  1991\n",
       "4  conf/issac/SteinZ91  Horst Günter Zimmer  1991"
      ]
     },
     "execution_count": 4,
     "metadata": {},
     "output_type": "execute_result"
    }
   ],
   "source": [
    "df = pd.read_csv('1990_2000_filtered_authorships.csv')\n",
    "\n",
    "df.head()"
   ]
  },
  {
   "cell_type": "code",
   "execution_count": 5,
   "metadata": {
    "colab": {
     "base_uri": "https://localhost:8080/"
    },
    "id": "rjPPUbsh29jY",
    "outputId": "09abd87f-d0e2-46d1-df48-752e0505199b"
   },
   "outputs": [
    {
     "data": {
      "text/plain": [
       "(423380, 93912)"
      ]
     },
     "execution_count": 5,
     "metadata": {},
     "output_type": "execute_result"
    }
   ],
   "source": [
    "df['id_article'].unique().size, df['author'].unique().size"
   ]
  },
  {
   "cell_type": "code",
   "execution_count": 6,
   "metadata": {
    "id": "HAaLve_z29jZ"
   },
   "outputs": [],
   "source": [
    "authors_dict = dict(zip(df['author'].unique(), np.arange(df['author'].unique().size)))\n",
    "articles_dict = dict(zip(df['id_article'].unique(), np.arange(df['id_article'].unique().size)))"
   ]
  },
  {
   "cell_type": "code",
   "execution_count": 7,
   "metadata": {
    "id": "pEYIBAwo29jZ"
   },
   "outputs": [],
   "source": [
    "rows = [authors_dict[x] for x in df['author'].values]\n",
    "cols = [articles_dict[x] for x in df['id_article'].values]\n",
    "data = np.ones(df.shape[0])\n",
    "\n",
    "X = csr_matrix((data, (rows, cols)))"
   ]
  },
  {
   "cell_type": "markdown",
   "metadata": {
    "id": "R1ScXCifM_bL"
   },
   "source": [
    "## SVD"
   ]
  },
  {
   "cell_type": "code",
   "execution_count": 8,
   "metadata": {
    "id": "XaNxzZ_K29ja"
   },
   "outputs": [],
   "source": [
    "from sklearn.decomposition import TruncatedSVD"
   ]
  },
  {
   "cell_type": "code",
   "execution_count": 30,
   "metadata": {
    "colab": {
     "base_uri": "https://localhost:8080/"
    },
    "id": "rQOOAHiX29jb",
    "outputId": "63526ef0-65f0-4325-beb7-7e90806e7393"
   },
   "outputs": [
    {
     "data": {
      "text/plain": [
       "TruncatedSVD(n_components=30, n_iter=10, random_state=42)"
      ]
     },
     "execution_count": 30,
     "metadata": {},
     "output_type": "execute_result"
    }
   ],
   "source": [
    "svd = TruncatedSVD(n_components=30, n_iter=10, random_state=42)\n",
    "svd.fit(X)"
   ]
  },
  {
   "cell_type": "code",
   "execution_count": 31,
   "metadata": {
    "colab": {
     "base_uri": "https://localhost:8080/"
    },
    "id": "HIKnDzVu29jb",
    "outputId": "cee5d320-1c9a-4215-a0f2-caecb6c4db37"
   },
   "outputs": [
    {
     "data": {
      "text/plain": [
       "(93912, 30)"
      ]
     },
     "execution_count": 31,
     "metadata": {},
     "output_type": "execute_result"
    }
   ],
   "source": [
    "X_svd = svd.transform(X)\n",
    "X_svd.shape"
   ]
  },
  {
   "cell_type": "code",
   "execution_count": 35,
   "metadata": {},
   "outputs": [],
   "source": [
    "import pickle\n",
    "with open('SVD.pickle', 'wb') as f:\n",
    "    pickle.dump(X_svd, f)"
   ]
  },
  {
   "cell_type": "markdown",
   "metadata": {
    "id": "9Q5saI5rNG48"
   },
   "source": [
    "## Evaluation"
   ]
  },
  {
   "cell_type": "code",
   "execution_count": 57,
   "metadata": {},
   "outputs": [],
   "source": [
    "from sklearn.metrics.pairwise import cosine_similarity\n",
    "from sklearn.metrics.pairwise import euclidean_distances\n",
    "\n",
    "from sklearn.metrics import classification_report, f1_score, accuracy_score"
   ]
  },
  {
   "cell_type": "code",
   "execution_count": 33,
   "metadata": {
    "colab": {
     "base_uri": "https://localhost:8080/",
     "height": 204
    },
    "id": "FovuU1Fz29jc",
    "outputId": "f8b5261f-c0e2-416a-ddcf-6f0f0b78226b"
   },
   "outputs": [
    {
     "data": {
      "text/html": [
       "<div>\n",
       "<style scoped>\n",
       "    .dataframe tbody tr th:only-of-type {\n",
       "        vertical-align: middle;\n",
       "    }\n",
       "\n",
       "    .dataframe tbody tr th {\n",
       "        vertical-align: top;\n",
       "    }\n",
       "\n",
       "    .dataframe thead th {\n",
       "        text-align: right;\n",
       "    }\n",
       "</style>\n",
       "<table border=\"1\" class=\"dataframe\">\n",
       "  <thead>\n",
       "    <tr style=\"text-align: right;\">\n",
       "      <th></th>\n",
       "      <th>source</th>\n",
       "      <th>target</th>\n",
       "      <th>connected</th>\n",
       "    </tr>\n",
       "  </thead>\n",
       "  <tbody>\n",
       "    <tr>\n",
       "      <th>0</th>\n",
       "      <td>Robert Milne</td>\n",
       "      <td>Louise Travé-Massuyès</td>\n",
       "      <td>1.0</td>\n",
       "    </tr>\n",
       "    <tr>\n",
       "      <th>1</th>\n",
       "      <td>Nando de Freitas</td>\n",
       "      <td>Arnaud Doucet</td>\n",
       "      <td>1.0</td>\n",
       "    </tr>\n",
       "    <tr>\n",
       "      <th>2</th>\n",
       "      <td>Yoshifumi Ooyama</td>\n",
       "      <td>Satoshi Shirai</td>\n",
       "      <td>1.0</td>\n",
       "    </tr>\n",
       "    <tr>\n",
       "      <th>3</th>\n",
       "      <td>Leen-Kiat Soh</td>\n",
       "      <td>Costas Tsatsoulis</td>\n",
       "      <td>1.0</td>\n",
       "    </tr>\n",
       "    <tr>\n",
       "      <th>4</th>\n",
       "      <td>Ya Xu</td>\n",
       "      <td>Deborah Estrin</td>\n",
       "      <td>1.0</td>\n",
       "    </tr>\n",
       "  </tbody>\n",
       "</table>\n",
       "</div>"
      ],
      "text/plain": [
       "             source                 target  connected\n",
       "0      Robert Milne  Louise Travé-Massuyès        1.0\n",
       "1  Nando de Freitas          Arnaud Doucet        1.0\n",
       "2  Yoshifumi Ooyama         Satoshi Shirai        1.0\n",
       "3     Leen-Kiat Soh      Costas Tsatsoulis        1.0\n",
       "4             Ya Xu         Deborah Estrin        1.0"
      ]
     },
     "execution_count": 33,
     "metadata": {},
     "output_type": "execute_result"
    }
   ],
   "source": [
    "df_test = pd.read_csv('sample_features_test2021-01-05.csv')\n",
    "df_test = df_test[['source', 'target', 'connected']]\n",
    "df_test.head()"
   ]
  },
  {
   "cell_type": "markdown",
   "metadata": {
    "id": "BUJlo1TENJwR"
   },
   "source": [
    "### Cosine similarity"
   ]
  },
  {
   "cell_type": "code",
   "execution_count": 28,
   "metadata": {
    "id": "I83XMzmR70YY"
   },
   "outputs": [],
   "source": [
    "y_pred = []\n",
    "for source, target in zip(df_test['source'], df_test['target']):\n",
    "    X_source = X_svd[authors_dict[source], :].reshape(1,-1)\n",
    "    X_target = X_svd[authors_dict[target], :].reshape(1,-1)\n",
    "\n",
    "    cos_sim = cosine_similarity(X_source, X_target)[0][0]\n",
    "    pred = 1 if cos_sim > 0.5 else 0\n",
    "    y_pred.append(pred)\n",
    "\n",
    "df_test['cosine'] = y_pred"
   ]
  },
  {
   "cell_type": "code",
   "execution_count": 29,
   "metadata": {
    "colab": {
     "base_uri": "https://localhost:8080/"
    },
    "id": "aBX4Dlry-sWV",
    "outputId": "be874b34-a1e3-477d-e1d7-24241c2ed597"
   },
   "outputs": [
    {
     "name": "stdout",
     "output_type": "stream",
     "text": [
      "              precision    recall  f1-score   support\n",
      "\n",
      "         0.0       0.72      0.98      0.83      5000\n",
      "         1.0       0.97      0.60      0.74      4860\n",
      "\n",
      "    accuracy                           0.79      9860\n",
      "   macro avg       0.84      0.79      0.79      9860\n",
      "weighted avg       0.84      0.79      0.79      9860\n",
      "\n",
      "F1: 0.7433\n",
      "Accuracy: 0.7948\n"
     ]
    }
   ],
   "source": [
    "print(classification_report(df_test['connected'], df_test['cosine']))\n",
    "print('F1: {:.4f}'.format(f1_score(df_test['connected'], df_test['cosine'])))\n",
    "print('Accuracy: {:.4f}'.format(accuracy_score(df_test['connected'], df_test['cosine'])))"
   ]
  },
  {
   "cell_type": "markdown",
   "metadata": {
    "id": "EWEoQGW2NhJ0"
   },
   "source": [
    "### Euclidean"
   ]
  },
  {
   "cell_type": "code",
   "execution_count": 36,
   "metadata": {
    "id": "KKEpO05y_WAA"
   },
   "outputs": [],
   "source": [
    "y_pred = []\n",
    "for source, target in zip(df_test['source'], df_test['target']):\n",
    "    X_source = X_svd[authors_dict[source], :].reshape(1,-1)\n",
    "    X_target = X_svd[authors_dict[target], :].reshape(1,-1)\n",
    "\n",
    "    euclidean_dist = euclidean_distances(X_source, X_target)[0][0]\n",
    "    y_pred.append(euclidean_dist)\n",
    "\n",
    "# Es mejor normalizar para poder hacer la comparación\n",
    "y_pred = np.array(y_pred)/np.max(y_pred)\n",
    "y_pred = [1 if y < 0.5 else 0 for y in y_pred]\n",
    "\n",
    "df_test['euclidean'] = y_pred"
   ]
  },
  {
   "cell_type": "code",
   "execution_count": 37,
   "metadata": {
    "colab": {
     "base_uri": "https://localhost:8080/"
    },
    "id": "oHPOHaEVQFyT",
    "outputId": "5d37e4d3-bf23-4897-afbd-fd1e22fd2855"
   },
   "outputs": [
    {
     "name": "stdout",
     "output_type": "stream",
     "text": [
      "              precision    recall  f1-score   support\n",
      "\n",
      "         0.0       0.02      0.00      0.00      5000\n",
      "         1.0       0.49      0.99      0.66      4860\n",
      "\n",
      "    accuracy                           0.49      9860\n",
      "   macro avg       0.25      0.49      0.33      9860\n",
      "weighted avg       0.25      0.49      0.32      9860\n",
      "\n",
      "F1: 0.6557\n",
      "Accuracy: 0.4878\n"
     ]
    }
   ],
   "source": [
    "print(classification_report(df_test['connected'], df_test['euclidean']))\n",
    "print('F1: {:.4f}'.format(f1_score(df_test['connected'], df_test['euclidean'])))\n",
    "print('Accuracy: {:.4f}'.format(accuracy_score(df_test['connected'], df_test['euclidean'])))"
   ]
  },
  {
   "cell_type": "code",
   "execution_count": 38,
   "metadata": {},
   "outputs": [
    {
     "data": {
      "text/html": [
       "<div>\n",
       "<style scoped>\n",
       "    .dataframe tbody tr th:only-of-type {\n",
       "        vertical-align: middle;\n",
       "    }\n",
       "\n",
       "    .dataframe tbody tr th {\n",
       "        vertical-align: top;\n",
       "    }\n",
       "\n",
       "    .dataframe thead th {\n",
       "        text-align: right;\n",
       "    }\n",
       "</style>\n",
       "<table border=\"1\" class=\"dataframe\">\n",
       "  <thead>\n",
       "    <tr style=\"text-align: right;\">\n",
       "      <th></th>\n",
       "      <th>Unnamed: 0</th>\n",
       "      <th>source</th>\n",
       "      <th>target</th>\n",
       "      <th>connected</th>\n",
       "      <th>sum_of_papers</th>\n",
       "      <th>sum_of_neighbors</th>\n",
       "      <th>log_secundary_neighbors</th>\n",
       "      <th>lenght_short_path</th>\n",
       "      <th>clustering_index_sum</th>\n",
       "    </tr>\n",
       "  </thead>\n",
       "  <tbody>\n",
       "    <tr>\n",
       "      <th>0</th>\n",
       "      <td>0</td>\n",
       "      <td>Michael Barnett 0001</td>\n",
       "      <td>Christian Lengauer</td>\n",
       "      <td>1.0</td>\n",
       "      <td>57</td>\n",
       "      <td>25</td>\n",
       "      <td>10.244236</td>\n",
       "      <td>1.0</td>\n",
       "      <td>0.320879</td>\n",
       "    </tr>\n",
       "    <tr>\n",
       "      <th>1</th>\n",
       "      <td>1</td>\n",
       "      <td>Mark Vriesenga</td>\n",
       "      <td>Kalman Peleg</td>\n",
       "      <td>1.0</td>\n",
       "      <td>11</td>\n",
       "      <td>8</td>\n",
       "      <td>7.544332</td>\n",
       "      <td>1.0</td>\n",
       "      <td>1.400000</td>\n",
       "    </tr>\n",
       "    <tr>\n",
       "      <th>2</th>\n",
       "      <td>2</td>\n",
       "      <td>Matt Blaze</td>\n",
       "      <td>Joan Feigenbaum</td>\n",
       "      <td>1.0</td>\n",
       "      <td>78</td>\n",
       "      <td>69</td>\n",
       "      <td>13.227696</td>\n",
       "      <td>1.0</td>\n",
       "      <td>0.314291</td>\n",
       "    </tr>\n",
       "    <tr>\n",
       "      <th>3</th>\n",
       "      <td>3</td>\n",
       "      <td>Majid Mirmehdi</td>\n",
       "      <td>John F. Haddon</td>\n",
       "      <td>1.0</td>\n",
       "      <td>35</td>\n",
       "      <td>26</td>\n",
       "      <td>9.679719</td>\n",
       "      <td>1.0</td>\n",
       "      <td>0.644946</td>\n",
       "    </tr>\n",
       "    <tr>\n",
       "      <th>4</th>\n",
       "      <td>4</td>\n",
       "      <td>Richard Durbin</td>\n",
       "      <td>Erik L. L. Sonnhammer</td>\n",
       "      <td>1.0</td>\n",
       "      <td>19</td>\n",
       "      <td>25</td>\n",
       "      <td>10.301928</td>\n",
       "      <td>1.0</td>\n",
       "      <td>1.115789</td>\n",
       "    </tr>\n",
       "    <tr>\n",
       "      <th>...</th>\n",
       "      <td>...</td>\n",
       "      <td>...</td>\n",
       "      <td>...</td>\n",
       "      <td>...</td>\n",
       "      <td>...</td>\n",
       "      <td>...</td>\n",
       "      <td>...</td>\n",
       "      <td>...</td>\n",
       "      <td>...</td>\n",
       "    </tr>\n",
       "    <tr>\n",
       "      <th>149252</th>\n",
       "      <td>149252</td>\n",
       "      <td>Tetsuya Iwasaki</td>\n",
       "      <td>Yoshihiro Sekiguchi</td>\n",
       "      <td>0.0</td>\n",
       "      <td>14</td>\n",
       "      <td>9</td>\n",
       "      <td>5.877736</td>\n",
       "      <td>8.0</td>\n",
       "      <td>1.142857</td>\n",
       "    </tr>\n",
       "    <tr>\n",
       "      <th>149253</th>\n",
       "      <td>149253</td>\n",
       "      <td>Quin Cai</td>\n",
       "      <td>Mary Sheeran</td>\n",
       "      <td>0.0</td>\n",
       "      <td>15</td>\n",
       "      <td>9</td>\n",
       "      <td>7.408531</td>\n",
       "      <td>8.0</td>\n",
       "      <td>1.066667</td>\n",
       "    </tr>\n",
       "    <tr>\n",
       "      <th>149254</th>\n",
       "      <td>149254</td>\n",
       "      <td>Myong-Soon Park</td>\n",
       "      <td>Philipp Hoschka</td>\n",
       "      <td>0.0</td>\n",
       "      <td>30</td>\n",
       "      <td>15</td>\n",
       "      <td>7.859413</td>\n",
       "      <td>6.0</td>\n",
       "      <td>0.179487</td>\n",
       "    </tr>\n",
       "    <tr>\n",
       "      <th>149255</th>\n",
       "      <td>149255</td>\n",
       "      <td>Karsten Müller 0001</td>\n",
       "      <td>David O'Sullivan</td>\n",
       "      <td>0.0</td>\n",
       "      <td>9</td>\n",
       "      <td>6</td>\n",
       "      <td>3.951244</td>\n",
       "      <td>NaN</td>\n",
       "      <td>1.000000</td>\n",
       "    </tr>\n",
       "    <tr>\n",
       "      <th>149256</th>\n",
       "      <td>149256</td>\n",
       "      <td>Frans Arickx</td>\n",
       "      <td>Itaru Nishizawa</td>\n",
       "      <td>0.0</td>\n",
       "      <td>10</td>\n",
       "      <td>6</td>\n",
       "      <td>6.135565</td>\n",
       "      <td>8.0</td>\n",
       "      <td>1.333333</td>\n",
       "    </tr>\n",
       "  </tbody>\n",
       "</table>\n",
       "<p>149257 rows × 9 columns</p>\n",
       "</div>"
      ],
      "text/plain": [
       "        Unnamed: 0                source                 target  connected  \\\n",
       "0                0  Michael Barnett 0001     Christian Lengauer        1.0   \n",
       "1                1        Mark Vriesenga           Kalman Peleg        1.0   \n",
       "2                2            Matt Blaze        Joan Feigenbaum        1.0   \n",
       "3                3        Majid Mirmehdi         John F. Haddon        1.0   \n",
       "4                4        Richard Durbin  Erik L. L. Sonnhammer        1.0   \n",
       "...            ...                   ...                    ...        ...   \n",
       "149252      149252       Tetsuya Iwasaki    Yoshihiro Sekiguchi        0.0   \n",
       "149253      149253              Quin Cai           Mary Sheeran        0.0   \n",
       "149254      149254       Myong-Soon Park        Philipp Hoschka        0.0   \n",
       "149255      149255   Karsten Müller 0001       David O'Sullivan        0.0   \n",
       "149256      149256          Frans Arickx        Itaru Nishizawa        0.0   \n",
       "\n",
       "        sum_of_papers  sum_of_neighbors  log_secundary_neighbors  \\\n",
       "0                  57                25                10.244236   \n",
       "1                  11                 8                 7.544332   \n",
       "2                  78                69                13.227696   \n",
       "3                  35                26                 9.679719   \n",
       "4                  19                25                10.301928   \n",
       "...               ...               ...                      ...   \n",
       "149252             14                 9                 5.877736   \n",
       "149253             15                 9                 7.408531   \n",
       "149254             30                15                 7.859413   \n",
       "149255              9                 6                 3.951244   \n",
       "149256             10                 6                 6.135565   \n",
       "\n",
       "        lenght_short_path  clustering_index_sum  \n",
       "0                     1.0              0.320879  \n",
       "1                     1.0              1.400000  \n",
       "2                     1.0              0.314291  \n",
       "3                     1.0              0.644946  \n",
       "4                     1.0              1.115789  \n",
       "...                   ...                   ...  \n",
       "149252                8.0              1.142857  \n",
       "149253                8.0              1.066667  \n",
       "149254                6.0              0.179487  \n",
       "149255                NaN              1.000000  \n",
       "149256                8.0              1.333333  \n",
       "\n",
       "[149257 rows x 9 columns]"
      ]
     },
     "execution_count": 38,
     "metadata": {},
     "output_type": "execute_result"
    }
   ],
   "source": [
    "df_samples = pd.read_csv(\"sample_features2021-02-08.csv\")\n",
    "df_samples"
   ]
  },
  {
   "cell_type": "code",
   "execution_count": 39,
   "metadata": {},
   "outputs": [],
   "source": [
    "df_samples = df_samples.drop(['Unnamed: 0'], axis = 1)"
   ]
  },
  {
   "cell_type": "code",
   "execution_count": 40,
   "metadata": {},
   "outputs": [
    {
     "data": {
      "text/html": [
       "<div>\n",
       "<style scoped>\n",
       "    .dataframe tbody tr th:only-of-type {\n",
       "        vertical-align: middle;\n",
       "    }\n",
       "\n",
       "    .dataframe tbody tr th {\n",
       "        vertical-align: top;\n",
       "    }\n",
       "\n",
       "    .dataframe thead th {\n",
       "        text-align: right;\n",
       "    }\n",
       "</style>\n",
       "<table border=\"1\" class=\"dataframe\">\n",
       "  <thead>\n",
       "    <tr style=\"text-align: right;\">\n",
       "      <th></th>\n",
       "      <th>source</th>\n",
       "      <th>target</th>\n",
       "      <th>connected</th>\n",
       "      <th>sum_of_papers</th>\n",
       "      <th>sum_of_neighbors</th>\n",
       "      <th>log_secundary_neighbors</th>\n",
       "      <th>lenght_short_path</th>\n",
       "      <th>clustering_index_sum</th>\n",
       "    </tr>\n",
       "  </thead>\n",
       "  <tbody>\n",
       "    <tr>\n",
       "      <th>0</th>\n",
       "      <td>Michael Barnett 0001</td>\n",
       "      <td>Christian Lengauer</td>\n",
       "      <td>1.0</td>\n",
       "      <td>57</td>\n",
       "      <td>25</td>\n",
       "      <td>10.244236</td>\n",
       "      <td>1.0</td>\n",
       "      <td>0.320879</td>\n",
       "    </tr>\n",
       "    <tr>\n",
       "      <th>1</th>\n",
       "      <td>Mark Vriesenga</td>\n",
       "      <td>Kalman Peleg</td>\n",
       "      <td>1.0</td>\n",
       "      <td>11</td>\n",
       "      <td>8</td>\n",
       "      <td>7.544332</td>\n",
       "      <td>1.0</td>\n",
       "      <td>1.400000</td>\n",
       "    </tr>\n",
       "    <tr>\n",
       "      <th>2</th>\n",
       "      <td>Matt Blaze</td>\n",
       "      <td>Joan Feigenbaum</td>\n",
       "      <td>1.0</td>\n",
       "      <td>78</td>\n",
       "      <td>69</td>\n",
       "      <td>13.227696</td>\n",
       "      <td>1.0</td>\n",
       "      <td>0.314291</td>\n",
       "    </tr>\n",
       "    <tr>\n",
       "      <th>3</th>\n",
       "      <td>Majid Mirmehdi</td>\n",
       "      <td>John F. Haddon</td>\n",
       "      <td>1.0</td>\n",
       "      <td>35</td>\n",
       "      <td>26</td>\n",
       "      <td>9.679719</td>\n",
       "      <td>1.0</td>\n",
       "      <td>0.644946</td>\n",
       "    </tr>\n",
       "    <tr>\n",
       "      <th>4</th>\n",
       "      <td>Richard Durbin</td>\n",
       "      <td>Erik L. L. Sonnhammer</td>\n",
       "      <td>1.0</td>\n",
       "      <td>19</td>\n",
       "      <td>25</td>\n",
       "      <td>10.301928</td>\n",
       "      <td>1.0</td>\n",
       "      <td>1.115789</td>\n",
       "    </tr>\n",
       "    <tr>\n",
       "      <th>...</th>\n",
       "      <td>...</td>\n",
       "      <td>...</td>\n",
       "      <td>...</td>\n",
       "      <td>...</td>\n",
       "      <td>...</td>\n",
       "      <td>...</td>\n",
       "      <td>...</td>\n",
       "      <td>...</td>\n",
       "    </tr>\n",
       "    <tr>\n",
       "      <th>149252</th>\n",
       "      <td>Tetsuya Iwasaki</td>\n",
       "      <td>Yoshihiro Sekiguchi</td>\n",
       "      <td>0.0</td>\n",
       "      <td>14</td>\n",
       "      <td>9</td>\n",
       "      <td>5.877736</td>\n",
       "      <td>8.0</td>\n",
       "      <td>1.142857</td>\n",
       "    </tr>\n",
       "    <tr>\n",
       "      <th>149253</th>\n",
       "      <td>Quin Cai</td>\n",
       "      <td>Mary Sheeran</td>\n",
       "      <td>0.0</td>\n",
       "      <td>15</td>\n",
       "      <td>9</td>\n",
       "      <td>7.408531</td>\n",
       "      <td>8.0</td>\n",
       "      <td>1.066667</td>\n",
       "    </tr>\n",
       "    <tr>\n",
       "      <th>149254</th>\n",
       "      <td>Myong-Soon Park</td>\n",
       "      <td>Philipp Hoschka</td>\n",
       "      <td>0.0</td>\n",
       "      <td>30</td>\n",
       "      <td>15</td>\n",
       "      <td>7.859413</td>\n",
       "      <td>6.0</td>\n",
       "      <td>0.179487</td>\n",
       "    </tr>\n",
       "    <tr>\n",
       "      <th>149255</th>\n",
       "      <td>Karsten Müller 0001</td>\n",
       "      <td>David O'Sullivan</td>\n",
       "      <td>0.0</td>\n",
       "      <td>9</td>\n",
       "      <td>6</td>\n",
       "      <td>3.951244</td>\n",
       "      <td>NaN</td>\n",
       "      <td>1.000000</td>\n",
       "    </tr>\n",
       "    <tr>\n",
       "      <th>149256</th>\n",
       "      <td>Frans Arickx</td>\n",
       "      <td>Itaru Nishizawa</td>\n",
       "      <td>0.0</td>\n",
       "      <td>10</td>\n",
       "      <td>6</td>\n",
       "      <td>6.135565</td>\n",
       "      <td>8.0</td>\n",
       "      <td>1.333333</td>\n",
       "    </tr>\n",
       "  </tbody>\n",
       "</table>\n",
       "<p>149257 rows × 8 columns</p>\n",
       "</div>"
      ],
      "text/plain": [
       "                      source                 target  connected  sum_of_papers  \\\n",
       "0       Michael Barnett 0001     Christian Lengauer        1.0             57   \n",
       "1             Mark Vriesenga           Kalman Peleg        1.0             11   \n",
       "2                 Matt Blaze        Joan Feigenbaum        1.0             78   \n",
       "3             Majid Mirmehdi         John F. Haddon        1.0             35   \n",
       "4             Richard Durbin  Erik L. L. Sonnhammer        1.0             19   \n",
       "...                      ...                    ...        ...            ...   \n",
       "149252       Tetsuya Iwasaki    Yoshihiro Sekiguchi        0.0             14   \n",
       "149253              Quin Cai           Mary Sheeran        0.0             15   \n",
       "149254       Myong-Soon Park        Philipp Hoschka        0.0             30   \n",
       "149255   Karsten Müller 0001       David O'Sullivan        0.0              9   \n",
       "149256          Frans Arickx        Itaru Nishizawa        0.0             10   \n",
       "\n",
       "        sum_of_neighbors  log_secundary_neighbors  lenght_short_path  \\\n",
       "0                     25                10.244236                1.0   \n",
       "1                      8                 7.544332                1.0   \n",
       "2                     69                13.227696                1.0   \n",
       "3                     26                 9.679719                1.0   \n",
       "4                     25                10.301928                1.0   \n",
       "...                  ...                      ...                ...   \n",
       "149252                 9                 5.877736                8.0   \n",
       "149253                 9                 7.408531                8.0   \n",
       "149254                15                 7.859413                6.0   \n",
       "149255                 6                 3.951244                NaN   \n",
       "149256                 6                 6.135565                8.0   \n",
       "\n",
       "        clustering_index_sum  \n",
       "0                   0.320879  \n",
       "1                   1.400000  \n",
       "2                   0.314291  \n",
       "3                   0.644946  \n",
       "4                   1.115789  \n",
       "...                      ...  \n",
       "149252              1.142857  \n",
       "149253              1.066667  \n",
       "149254              0.179487  \n",
       "149255              1.000000  \n",
       "149256              1.333333  \n",
       "\n",
       "[149257 rows x 8 columns]"
      ]
     },
     "execution_count": 40,
     "metadata": {},
     "output_type": "execute_result"
    }
   ],
   "source": [
    "df_samples"
   ]
  },
  {
   "cell_type": "code",
   "execution_count": 41,
   "metadata": {},
   "outputs": [
    {
     "data": {
      "text/plain": [
       "6550"
      ]
     },
     "execution_count": 41,
     "metadata": {},
     "output_type": "execute_result"
    }
   ],
   "source": [
    "authors_dict[df_samples.iloc[0]['source']]"
   ]
  },
  {
   "cell_type": "code",
   "execution_count": 49,
   "metadata": {},
   "outputs": [
    {
     "data": {
      "text/plain": [
       "array([0., 0., 0., ..., 0., 0., 0.])"
      ]
     },
     "execution_count": 49,
     "metadata": {},
     "output_type": "execute_result"
    }
   ],
   "source": [
    "X[6550].toarray()[0]"
   ]
  },
  {
   "cell_type": "code",
   "execution_count": 44,
   "metadata": {},
   "outputs": [
    {
     "data": {
      "text/plain": [
       "(1, 423380)"
      ]
     },
     "execution_count": 44,
     "metadata": {},
     "output_type": "execute_result"
    }
   ],
   "source": [
    "X[6550].shape"
   ]
  },
  {
   "cell_type": "code",
   "execution_count": 53,
   "metadata": {},
   "outputs": [
    {
     "data": {
      "text/plain": [
       "0.9999999999999998"
      ]
     },
     "execution_count": 53,
     "metadata": {},
     "output_type": "execute_result"
    }
   ],
   "source": [
    "cosine_similarity(X[6550].toarray(),X[6550].toarray())[0][0]"
   ]
  },
  {
   "cell_type": "code",
   "execution_count": 59,
   "metadata": {},
   "outputs": [
    {
     "data": {
      "text/plain": [
       "array([[-1.50148562e-07, -2.12608111e-07,  3.41012541e-06,\n",
       "        -3.15766410e-05, -5.50664436e-05,  4.62484676e-05,\n",
       "         8.69253189e-05,  1.11133175e-05, -4.08750459e-05,\n",
       "         1.84541500e-05,  1.54978476e-04, -2.96414152e-05,\n",
       "         2.55917655e-04,  3.35604050e-04, -4.69724864e-05,\n",
       "        -3.94651564e-05, -1.96943551e-04,  6.92527912e-04,\n",
       "        -3.04539957e-04,  3.61426089e-04, -7.08437168e-04,\n",
       "        -1.24397496e-03, -1.56942091e-04,  6.12047311e-04,\n",
       "        -3.11775099e-04, -1.90415217e-03, -6.38611308e-05,\n",
       "         8.41038852e-04,  2.22574517e-05,  1.47601233e-03]])"
      ]
     },
     "execution_count": 59,
     "metadata": {},
     "output_type": "execute_result"
    }
   ],
   "source": [
    "svd.transform(X[6550])"
   ]
  },
  {
   "cell_type": "code",
   "execution_count": 61,
   "metadata": {},
   "outputs": [],
   "source": [
    "simil = []\n",
    "for index, row in df_samples.iterrows():\n",
    "    a = svd.transform(X[authors_dict[row['source']]])\n",
    "    b = svd.transform(X[authors_dict[row['target']]])\n",
    "    simil.append(cosine_similarity(a,b)[0][0])"
   ]
  },
  {
   "cell_type": "code",
   "execution_count": 62,
   "metadata": {},
   "outputs": [
    {
     "data": {
      "text/plain": [
       "[0.9867884489856374,\n",
       " 0.9999581006747635,\n",
       " 0.8422736016116948,\n",
       " 0.9998556617183771,\n",
       " 0.5102176893076641,\n",
       " 0.9834442889813239,\n",
       " 0.9982271863773484,\n",
       " 0.3174079399695275,\n",
       " 0.9242533273482424,\n",
       " 0.613894735677866]"
      ]
     },
     "execution_count": 62,
     "metadata": {},
     "output_type": "execute_result"
    }
   ],
   "source": [
    "simil[:10]"
   ]
  },
  {
   "cell_type": "code",
   "execution_count": 63,
   "metadata": {},
   "outputs": [],
   "source": [
    "df_samples['cos_sim'] = simil"
   ]
  },
  {
   "cell_type": "code",
   "execution_count": 64,
   "metadata": {},
   "outputs": [
    {
     "data": {
      "text/html": [
       "<div>\n",
       "<style scoped>\n",
       "    .dataframe tbody tr th:only-of-type {\n",
       "        vertical-align: middle;\n",
       "    }\n",
       "\n",
       "    .dataframe tbody tr th {\n",
       "        vertical-align: top;\n",
       "    }\n",
       "\n",
       "    .dataframe thead th {\n",
       "        text-align: right;\n",
       "    }\n",
       "</style>\n",
       "<table border=\"1\" class=\"dataframe\">\n",
       "  <thead>\n",
       "    <tr style=\"text-align: right;\">\n",
       "      <th></th>\n",
       "      <th>Unnamed: 0</th>\n",
       "      <th>source</th>\n",
       "      <th>target</th>\n",
       "      <th>connected</th>\n",
       "      <th>sum_of_papers</th>\n",
       "      <th>sum_of_neighbors</th>\n",
       "      <th>log_secundary_neighbors</th>\n",
       "      <th>lenght_short_path</th>\n",
       "      <th>clustering_index_sum</th>\n",
       "    </tr>\n",
       "  </thead>\n",
       "  <tbody>\n",
       "    <tr>\n",
       "      <th>0</th>\n",
       "      <td>0</td>\n",
       "      <td>Hideaki Takanobu</td>\n",
       "      <td>Kayoko Ohtsuki</td>\n",
       "      <td>1.0</td>\n",
       "      <td>17</td>\n",
       "      <td>34</td>\n",
       "      <td>10.757477</td>\n",
       "      <td>1.0</td>\n",
       "      <td>1.407389</td>\n",
       "    </tr>\n",
       "    <tr>\n",
       "      <th>1</th>\n",
       "      <td>1</td>\n",
       "      <td>Joseph Douglas Horton</td>\n",
       "      <td>Alejandro López-Ortiz</td>\n",
       "      <td>1.0</td>\n",
       "      <td>26</td>\n",
       "      <td>25</td>\n",
       "      <td>11.075040</td>\n",
       "      <td>1.0</td>\n",
       "      <td>0.752381</td>\n",
       "    </tr>\n",
       "    <tr>\n",
       "      <th>2</th>\n",
       "      <td>2</td>\n",
       "      <td>Siddhartha R. Dalal</td>\n",
       "      <td>Ashish Jain</td>\n",
       "      <td>1.0</td>\n",
       "      <td>19</td>\n",
       "      <td>11</td>\n",
       "      <td>7.494430</td>\n",
       "      <td>1.0</td>\n",
       "      <td>0.800000</td>\n",
       "    </tr>\n",
       "    <tr>\n",
       "      <th>3</th>\n",
       "      <td>3</td>\n",
       "      <td>Laurence Melloul</td>\n",
       "      <td>Armando Fox</td>\n",
       "      <td>1.0</td>\n",
       "      <td>21</td>\n",
       "      <td>16</td>\n",
       "      <td>8.034955</td>\n",
       "      <td>1.0</td>\n",
       "      <td>1.153846</td>\n",
       "    </tr>\n",
       "    <tr>\n",
       "      <th>4</th>\n",
       "      <td>4</td>\n",
       "      <td>Riccardo Bettati</td>\n",
       "      <td>Wei Zhao 0001</td>\n",
       "      <td>1.0</td>\n",
       "      <td>76</td>\n",
       "      <td>25</td>\n",
       "      <td>9.294498</td>\n",
       "      <td>1.0</td>\n",
       "      <td>1.109524</td>\n",
       "    </tr>\n",
       "    <tr>\n",
       "      <th>...</th>\n",
       "      <td>...</td>\n",
       "      <td>...</td>\n",
       "      <td>...</td>\n",
       "      <td>...</td>\n",
       "      <td>...</td>\n",
       "      <td>...</td>\n",
       "      <td>...</td>\n",
       "      <td>...</td>\n",
       "      <td>...</td>\n",
       "    </tr>\n",
       "    <tr>\n",
       "      <th>38098</th>\n",
       "      <td>38098</td>\n",
       "      <td>Florian Schiel</td>\n",
       "      <td>Walt Truszkowski</td>\n",
       "      <td>0.0</td>\n",
       "      <td>21</td>\n",
       "      <td>10</td>\n",
       "      <td>5.023881</td>\n",
       "      <td>9.0</td>\n",
       "      <td>0.300000</td>\n",
       "    </tr>\n",
       "    <tr>\n",
       "      <th>38099</th>\n",
       "      <td>38099</td>\n",
       "      <td>Goffredo Haus</td>\n",
       "      <td>Mizuho Iwaihara</td>\n",
       "      <td>0.0</td>\n",
       "      <td>10</td>\n",
       "      <td>9</td>\n",
       "      <td>7.339538</td>\n",
       "      <td>6.0</td>\n",
       "      <td>0.321429</td>\n",
       "    </tr>\n",
       "    <tr>\n",
       "      <th>38100</th>\n",
       "      <td>38100</td>\n",
       "      <td>Joe L. Armstrong</td>\n",
       "      <td>George T. Duncan</td>\n",
       "      <td>0.0</td>\n",
       "      <td>13</td>\n",
       "      <td>0</td>\n",
       "      <td>0.000000</td>\n",
       "      <td>NaN</td>\n",
       "      <td>0.000000</td>\n",
       "    </tr>\n",
       "    <tr>\n",
       "      <th>38101</th>\n",
       "      <td>38101</td>\n",
       "      <td>Wayne C. Boncyk</td>\n",
       "      <td>Mike Hinchey</td>\n",
       "      <td>0.0</td>\n",
       "      <td>6</td>\n",
       "      <td>2</td>\n",
       "      <td>2.197225</td>\n",
       "      <td>NaN</td>\n",
       "      <td>1.000000</td>\n",
       "    </tr>\n",
       "    <tr>\n",
       "      <th>38102</th>\n",
       "      <td>38102</td>\n",
       "      <td>Anantha Bangalore</td>\n",
       "      <td>Ronald J. Vetter</td>\n",
       "      <td>0.0</td>\n",
       "      <td>26</td>\n",
       "      <td>5</td>\n",
       "      <td>3.401197</td>\n",
       "      <td>NaN</td>\n",
       "      <td>0.100000</td>\n",
       "    </tr>\n",
       "  </tbody>\n",
       "</table>\n",
       "<p>38103 rows × 9 columns</p>\n",
       "</div>"
      ],
      "text/plain": [
       "       Unnamed: 0                 source                 target  connected  \\\n",
       "0               0       Hideaki Takanobu         Kayoko Ohtsuki        1.0   \n",
       "1               1  Joseph Douglas Horton  Alejandro López-Ortiz        1.0   \n",
       "2               2    Siddhartha R. Dalal            Ashish Jain        1.0   \n",
       "3               3       Laurence Melloul            Armando Fox        1.0   \n",
       "4               4       Riccardo Bettati          Wei Zhao 0001        1.0   \n",
       "...           ...                    ...                    ...        ...   \n",
       "38098       38098         Florian Schiel       Walt Truszkowski        0.0   \n",
       "38099       38099          Goffredo Haus        Mizuho Iwaihara        0.0   \n",
       "38100       38100       Joe L. Armstrong       George T. Duncan        0.0   \n",
       "38101       38101        Wayne C. Boncyk           Mike Hinchey        0.0   \n",
       "38102       38102      Anantha Bangalore       Ronald J. Vetter        0.0   \n",
       "\n",
       "       sum_of_papers  sum_of_neighbors  log_secundary_neighbors  \\\n",
       "0                 17                34                10.757477   \n",
       "1                 26                25                11.075040   \n",
       "2                 19                11                 7.494430   \n",
       "3                 21                16                 8.034955   \n",
       "4                 76                25                 9.294498   \n",
       "...              ...               ...                      ...   \n",
       "38098             21                10                 5.023881   \n",
       "38099             10                 9                 7.339538   \n",
       "38100             13                 0                 0.000000   \n",
       "38101              6                 2                 2.197225   \n",
       "38102             26                 5                 3.401197   \n",
       "\n",
       "       lenght_short_path  clustering_index_sum  \n",
       "0                    1.0              1.407389  \n",
       "1                    1.0              0.752381  \n",
       "2                    1.0              0.800000  \n",
       "3                    1.0              1.153846  \n",
       "4                    1.0              1.109524  \n",
       "...                  ...                   ...  \n",
       "38098                9.0              0.300000  \n",
       "38099                6.0              0.321429  \n",
       "38100                NaN              0.000000  \n",
       "38101                NaN              1.000000  \n",
       "38102                NaN              0.100000  \n",
       "\n",
       "[38103 rows x 9 columns]"
      ]
     },
     "execution_count": 64,
     "metadata": {},
     "output_type": "execute_result"
    }
   ],
   "source": [
    "df_samples_t = pd.read_csv(\"sample_features_test2021-01-06.csv\")\n",
    "df_samples_t"
   ]
  },
  {
   "cell_type": "code",
   "execution_count": 65,
   "metadata": {},
   "outputs": [],
   "source": [
    "df_samples_t = df_samples_t.drop(['Unnamed: 0'], axis = 1)"
   ]
  },
  {
   "cell_type": "code",
   "execution_count": 66,
   "metadata": {},
   "outputs": [],
   "source": [
    "simil = []\n",
    "for index, row in df_samples_t.iterrows():\n",
    "    a = svd.transform(X[authors_dict[row['source']]])\n",
    "    b = svd.transform(X[authors_dict[row['target']]])\n",
    "    simil.append(cosine_similarity(a,b)[0][0])"
   ]
  },
  {
   "cell_type": "code",
   "execution_count": 67,
   "metadata": {},
   "outputs": [],
   "source": [
    "df_samples_t['cos_sim'] = simil"
   ]
  },
  {
   "cell_type": "code",
   "execution_count": 69,
   "metadata": {},
   "outputs": [],
   "source": [
    "df_samples.to_csv('training.csv', index=False)"
   ]
  },
  {
   "cell_type": "code",
   "execution_count": 70,
   "metadata": {},
   "outputs": [],
   "source": [
    "df_samples_t.to_csv('test.csv', index=False)"
   ]
  }
 ],
 "metadata": {
  "colab": {
   "collapsed_sections": [],
   "name": "Authors vs papers.ipynb",
   "provenance": [],
   "toc_visible": true
  },
  "kernelspec": {
   "display_name": "Python 3",
   "language": "python",
   "name": "python3"
  },
  "language_info": {
   "codemirror_mode": {
    "name": "ipython",
    "version": 3
   },
   "file_extension": ".py",
   "mimetype": "text/x-python",
   "name": "python",
   "nbconvert_exporter": "python",
   "pygments_lexer": "ipython3",
   "version": "3.8.3"
  }
 },
 "nbformat": 4,
 "nbformat_minor": 1
}
