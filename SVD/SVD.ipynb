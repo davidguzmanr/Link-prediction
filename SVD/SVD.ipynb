{
 "cells": [
  {
   "cell_type": "code",
   "execution_count": 34,
   "metadata": {
    "id": "eSi7LsrV29jM"
   },
   "outputs": [],
   "source": [
    "import pandas as pd\n",
    "import numpy as np\n",
    "from scipy.sparse import csr_matrix \n",
    "from tqdm import tqdm"
   ]
  },
  {
   "cell_type": "markdown",
   "metadata": {},
   "source": [
    "# SVD\n",
    "\n",
    "Una aproximación es el uso de una SVD como método de extracción de tópicos por autor. Si a un autor se le ve como un conjunto de títulos en los que ha colaborado, se puede generar una matriz binaria de co-ocurrencia con autores en las filas y artículos en las columnas con dimensiones $93,912 \\times 423,380$."
   ]
  },
  {
   "cell_type": "markdown",
   "metadata": {},
   "source": [
    "- [Sparse matrix](#Sparse-matrix)\n",
    "- [SVD](#SVD)\n",
    "- [Evaluation](#Evaluation)\n",
    "  - [Cosine similarity](#Cosine)\n",
    "  - [Euclidean distance](#Euclidean)\n",
    "- [Train-test](#Train-test)"
   ]
  },
  {
   "cell_type": "markdown",
   "metadata": {
    "id": "vcWsN5vnMzaL"
   },
   "source": [
    "<a name=\"Sparse-matrix\"></a>\n",
    "## Sparse matrix\n",
    "\n",
    "Debido a que la matriz es gigantesca y la mayoría de sus elementos son cero se debe tratar como una matriz sparse."
   ]
  },
  {
   "cell_type": "code",
   "execution_count": 7,
   "metadata": {
    "colab": {
     "base_uri": "https://localhost:8080/",
     "height": 204
    },
    "id": "eXfgqMAF29jV",
    "outputId": "66755563-2f84-43db-c239-f002404a5a0a"
   },
   "outputs": [
    {
     "data": {
      "text/html": [
       "<div>\n",
       "<style scoped>\n",
       "    .dataframe tbody tr th:only-of-type {\n",
       "        vertical-align: middle;\n",
       "    }\n",
       "\n",
       "    .dataframe tbody tr th {\n",
       "        vertical-align: top;\n",
       "    }\n",
       "\n",
       "    .dataframe thead th {\n",
       "        text-align: right;\n",
       "    }\n",
       "</style>\n",
       "<table border=\"1\" class=\"dataframe\">\n",
       "  <thead>\n",
       "    <tr style=\"text-align: right;\">\n",
       "      <th></th>\n",
       "      <th>id_article</th>\n",
       "      <th>author</th>\n",
       "      <th>year</th>\n",
       "    </tr>\n",
       "  </thead>\n",
       "  <tbody>\n",
       "    <tr>\n",
       "      <th>0</th>\n",
       "      <td>conf/issac/Kajler92</td>\n",
       "      <td>Norbert Kajler</td>\n",
       "      <td>1992</td>\n",
       "    </tr>\n",
       "    <tr>\n",
       "      <th>1</th>\n",
       "      <td>conf/issac/BiniP90</td>\n",
       "      <td>Dario Bini</td>\n",
       "      <td>1990</td>\n",
       "    </tr>\n",
       "    <tr>\n",
       "      <th>2</th>\n",
       "      <td>conf/issac/BiniP90</td>\n",
       "      <td>Victor Y. Pan</td>\n",
       "      <td>1990</td>\n",
       "    </tr>\n",
       "    <tr>\n",
       "      <th>3</th>\n",
       "      <td>conf/issac/SteinZ91</td>\n",
       "      <td>Andreas Stein</td>\n",
       "      <td>1991</td>\n",
       "    </tr>\n",
       "    <tr>\n",
       "      <th>4</th>\n",
       "      <td>conf/issac/SteinZ91</td>\n",
       "      <td>Horst Günter Zimmer</td>\n",
       "      <td>1991</td>\n",
       "    </tr>\n",
       "  </tbody>\n",
       "</table>\n",
       "</div>"
      ],
      "text/plain": [
       "            id_article               author  year\n",
       "0  conf/issac/Kajler92       Norbert Kajler  1992\n",
       "1   conf/issac/BiniP90           Dario Bini  1990\n",
       "2   conf/issac/BiniP90        Victor Y. Pan  1990\n",
       "3  conf/issac/SteinZ91        Andreas Stein  1991\n",
       "4  conf/issac/SteinZ91  Horst Günter Zimmer  1991"
      ]
     },
     "execution_count": 7,
     "metadata": {},
     "output_type": "execute_result"
    }
   ],
   "source": [
    "df1 = pd.read_csv('../Data/1990_2000_1_filtered_authorships.csv')\n",
    "df2 = pd.read_csv('../Data/1990_2000_2_filtered_authorships.csv')\n",
    "\n",
    "df = pd.concat([df1, df2])\n",
    "df.head()"
   ]
  },
  {
   "cell_type": "code",
   "execution_count": 8,
   "metadata": {
    "colab": {
     "base_uri": "https://localhost:8080/"
    },
    "id": "rjPPUbsh29jY",
    "outputId": "09abd87f-d0e2-46d1-df48-752e0505199b"
   },
   "outputs": [
    {
     "data": {
      "text/plain": [
       "(423380, 93912)"
      ]
     },
     "execution_count": 8,
     "metadata": {},
     "output_type": "execute_result"
    }
   ],
   "source": [
    "df['id_article'].unique().size, df['author'].unique().size"
   ]
  },
  {
   "cell_type": "code",
   "execution_count": 9,
   "metadata": {
    "id": "HAaLve_z29jZ"
   },
   "outputs": [],
   "source": [
    "authors_dict = dict(zip(df['author'].unique(), np.arange(df['author'].unique().size)))\n",
    "articles_dict = dict(zip(df['id_article'].unique(), np.arange(df['id_article'].unique().size)))"
   ]
  },
  {
   "cell_type": "code",
   "execution_count": 10,
   "metadata": {
    "id": "pEYIBAwo29jZ"
   },
   "outputs": [],
   "source": [
    "rows = [authors_dict[x] for x in df['author'].values]\n",
    "cols = [articles_dict[x] for x in df['id_article'].values]\n",
    "data = np.ones(df.shape[0])\n",
    "\n",
    "X = csr_matrix((data, (rows, cols)))"
   ]
  },
  {
   "cell_type": "markdown",
   "metadata": {
    "id": "R1ScXCifM_bL"
   },
   "source": [
    "<a name=\"SVD\"></a>\n",
    "## SVD\n",
    "\n",
    "Nos quedaremos únicamente con las primeras 30 componentes de la SVD."
   ]
  },
  {
   "cell_type": "code",
   "execution_count": 14,
   "metadata": {
    "id": "XaNxzZ_K29ja"
   },
   "outputs": [],
   "source": [
    "from sklearn.decomposition import TruncatedSVD\n",
    "import pickle"
   ]
  },
  {
   "cell_type": "code",
   "execution_count": 15,
   "metadata": {
    "colab": {
     "base_uri": "https://localhost:8080/"
    },
    "id": "rQOOAHiX29jb",
    "outputId": "63526ef0-65f0-4325-beb7-7e90806e7393"
   },
   "outputs": [
    {
     "data": {
      "text/plain": [
       "TruncatedSVD(n_components=30, n_iter=10, random_state=42)"
      ]
     },
     "execution_count": 15,
     "metadata": {},
     "output_type": "execute_result"
    }
   ],
   "source": [
    "svd = TruncatedSVD(n_components=30, n_iter=10, random_state=42)\n",
    "svd.fit(X)"
   ]
  },
  {
   "cell_type": "code",
   "execution_count": 16,
   "metadata": {
    "colab": {
     "base_uri": "https://localhost:8080/"
    },
    "id": "HIKnDzVu29jb",
    "outputId": "cee5d320-1c9a-4215-a0f2-caecb6c4db37"
   },
   "outputs": [
    {
     "data": {
      "text/plain": [
       "(93912, 30)"
      ]
     },
     "execution_count": 16,
     "metadata": {},
     "output_type": "execute_result"
    }
   ],
   "source": [
    "X_svd = svd.transform(X)\n",
    "X_svd.shape"
   ]
  },
  {
   "cell_type": "code",
   "execution_count": 17,
   "metadata": {},
   "outputs": [],
   "source": [
    "with open('SVD.pickle', 'wb') as f:\n",
    "    pickle.dump(X_svd, f)"
   ]
  },
  {
   "cell_type": "markdown",
   "metadata": {
    "id": "9Q5saI5rNG48"
   },
   "source": [
    "<a name=\"Evaluation\"></a>\n",
    "## Evaluation"
   ]
  },
  {
   "cell_type": "code",
   "execution_count": 18,
   "metadata": {},
   "outputs": [],
   "source": [
    "from sklearn.metrics.pairwise import cosine_similarity\n",
    "from sklearn.metrics.pairwise import euclidean_distances\n",
    "\n",
    "from sklearn.metrics import classification_report, f1_score, accuracy_score"
   ]
  },
  {
   "cell_type": "code",
   "execution_count": 20,
   "metadata": {
    "colab": {
     "base_uri": "https://localhost:8080/",
     "height": 204
    },
    "id": "FovuU1Fz29jc",
    "outputId": "f8b5261f-c0e2-416a-ddcf-6f0f0b78226b"
   },
   "outputs": [
    {
     "data": {
      "text/html": [
       "<div>\n",
       "<style scoped>\n",
       "    .dataframe tbody tr th:only-of-type {\n",
       "        vertical-align: middle;\n",
       "    }\n",
       "\n",
       "    .dataframe tbody tr th {\n",
       "        vertical-align: top;\n",
       "    }\n",
       "\n",
       "    .dataframe thead th {\n",
       "        text-align: right;\n",
       "    }\n",
       "</style>\n",
       "<table border=\"1\" class=\"dataframe\">\n",
       "  <thead>\n",
       "    <tr style=\"text-align: right;\">\n",
       "      <th></th>\n",
       "      <th>source</th>\n",
       "      <th>target</th>\n",
       "      <th>connected</th>\n",
       "    </tr>\n",
       "  </thead>\n",
       "  <tbody>\n",
       "    <tr>\n",
       "      <th>0</th>\n",
       "      <td>Robert Milne</td>\n",
       "      <td>Louise Travé-Massuyès</td>\n",
       "      <td>1.0</td>\n",
       "    </tr>\n",
       "    <tr>\n",
       "      <th>1</th>\n",
       "      <td>Nando de Freitas</td>\n",
       "      <td>Arnaud Doucet</td>\n",
       "      <td>1.0</td>\n",
       "    </tr>\n",
       "    <tr>\n",
       "      <th>2</th>\n",
       "      <td>Yoshifumi Ooyama</td>\n",
       "      <td>Satoshi Shirai</td>\n",
       "      <td>1.0</td>\n",
       "    </tr>\n",
       "    <tr>\n",
       "      <th>3</th>\n",
       "      <td>Leen-Kiat Soh</td>\n",
       "      <td>Costas Tsatsoulis</td>\n",
       "      <td>1.0</td>\n",
       "    </tr>\n",
       "    <tr>\n",
       "      <th>4</th>\n",
       "      <td>Ya Xu</td>\n",
       "      <td>Deborah Estrin</td>\n",
       "      <td>1.0</td>\n",
       "    </tr>\n",
       "  </tbody>\n",
       "</table>\n",
       "</div>"
      ],
      "text/plain": [
       "             source                 target  connected\n",
       "0      Robert Milne  Louise Travé-Massuyès        1.0\n",
       "1  Nando de Freitas          Arnaud Doucet        1.0\n",
       "2  Yoshifumi Ooyama         Satoshi Shirai        1.0\n",
       "3     Leen-Kiat Soh      Costas Tsatsoulis        1.0\n",
       "4             Ya Xu         Deborah Estrin        1.0"
      ]
     },
     "execution_count": 20,
     "metadata": {},
     "output_type": "execute_result"
    }
   ],
   "source": [
    "df_test = pd.read_csv('../Data/sample_features_test2021-01-05.csv')\n",
    "df_test = df_test[['source', 'target', 'connected']]\n",
    "df_test.head()"
   ]
  },
  {
   "cell_type": "markdown",
   "metadata": {
    "id": "BUJlo1TENJwR"
   },
   "source": [
    "<a name=\"Cosine\"></a>\n",
    "### Cosine similarity\n",
    "\n",
    "Cuanto se trata de vectores dispersos lo mejor es usar la militud coseno."
   ]
  },
  {
   "cell_type": "code",
   "execution_count": 21,
   "metadata": {
    "id": "I83XMzmR70YY"
   },
   "outputs": [],
   "source": [
    "y_pred = []\n",
    "for source, target in zip(df_test['source'], df_test['target']):\n",
    "    X_source = X_svd[authors_dict[source], :].reshape(1,-1)\n",
    "    X_target = X_svd[authors_dict[target], :].reshape(1,-1)\n",
    "\n",
    "    cos_sim = cosine_similarity(X_source, X_target)[0][0]\n",
    "    pred = 1 if cos_sim > 0.5 else 0\n",
    "    y_pred.append(pred)\n",
    "\n",
    "df_test['cosine'] = y_pred"
   ]
  },
  {
   "cell_type": "code",
   "execution_count": 22,
   "metadata": {
    "colab": {
     "base_uri": "https://localhost:8080/"
    },
    "id": "aBX4Dlry-sWV",
    "outputId": "be874b34-a1e3-477d-e1d7-24241c2ed597"
   },
   "outputs": [
    {
     "name": "stdout",
     "output_type": "stream",
     "text": [
      "              precision    recall  f1-score   support\n",
      "\n",
      "         0.0       0.72      0.94      0.82      5000\n",
      "         1.0       0.91      0.63      0.74      4860\n",
      "\n",
      "    accuracy                           0.78      9860\n",
      "   macro avg       0.81      0.78      0.78      9860\n",
      "weighted avg       0.81      0.78      0.78      9860\n",
      "\n",
      "F1: 0.7417\n",
      "Accuracy: 0.7845\n"
     ]
    }
   ],
   "source": [
    "print(classification_report(df_test['connected'], df_test['cosine']))\n",
    "print('F1: {:.4f}'.format(f1_score(df_test['connected'], df_test['cosine'])))\n",
    "print('Accuracy: {:.4f}'.format(accuracy_score(df_test['connected'], df_test['cosine'])))"
   ]
  },
  {
   "cell_type": "markdown",
   "metadata": {
    "id": "EWEoQGW2NhJ0"
   },
   "source": [
    "<a name=\"Euclidean\"></a>\n",
    "### Euclidean distance\n",
    "\n",
    "La distancia euclideana no funciona tan bien como la similitud coseno."
   ]
  },
  {
   "cell_type": "code",
   "execution_count": 23,
   "metadata": {
    "id": "KKEpO05y_WAA"
   },
   "outputs": [],
   "source": [
    "y_pred = []\n",
    "for source, target in zip(df_test['source'], df_test['target']):\n",
    "    X_source = X_svd[authors_dict[source], :].reshape(1,-1)\n",
    "    X_target = X_svd[authors_dict[target], :].reshape(1,-1)\n",
    "\n",
    "    euclidean_dist = euclidean_distances(X_source, X_target)[0][0]\n",
    "    y_pred.append(euclidean_dist)\n",
    "\n",
    "# Es mejor normalizar para poder hacer la comparación\n",
    "y_pred = np.array(y_pred)/np.max(y_pred)\n",
    "y_pred = [1 if y < 0.5 else 0 for y in y_pred]\n",
    "\n",
    "df_test['euclidean'] = y_pred"
   ]
  },
  {
   "cell_type": "code",
   "execution_count": 24,
   "metadata": {
    "colab": {
     "base_uri": "https://localhost:8080/"
    },
    "id": "oHPOHaEVQFyT",
    "outputId": "5d37e4d3-bf23-4897-afbd-fd1e22fd2855"
   },
   "outputs": [
    {
     "name": "stdout",
     "output_type": "stream",
     "text": [
      "              precision    recall  f1-score   support\n",
      "\n",
      "         0.0       0.02      0.00      0.00      5000\n",
      "         1.0       0.49      0.99      0.66      4860\n",
      "\n",
      "    accuracy                           0.49      9860\n",
      "   macro avg       0.25      0.49      0.33      9860\n",
      "weighted avg       0.25      0.49      0.32      9860\n",
      "\n",
      "F1: 0.6557\n",
      "Accuracy: 0.4878\n"
     ]
    }
   ],
   "source": [
    "print(classification_report(df_test['connected'], df_test['euclidean']))\n",
    "print('F1: {:.4f}'.format(f1_score(df_test['connected'], df_test['euclidean'])))\n",
    "print('Accuracy: {:.4f}'.format(accuracy_score(df_test['connected'], df_test['euclidean'])))"
   ]
  },
  {
   "cell_type": "markdown",
   "metadata": {},
   "source": [
    "<a name=\"Train-test\"></a>\n",
    "## Train-test\n",
    "\n",
    "Ahora le añadiremos una característica más a nuestros datos: su similitud coseno. "
   ]
  },
  {
   "cell_type": "code",
   "execution_count": 48,
   "metadata": {},
   "outputs": [
    {
     "data": {
      "text/html": [
       "<div>\n",
       "<style scoped>\n",
       "    .dataframe tbody tr th:only-of-type {\n",
       "        vertical-align: middle;\n",
       "    }\n",
       "\n",
       "    .dataframe tbody tr th {\n",
       "        vertical-align: top;\n",
       "    }\n",
       "\n",
       "    .dataframe thead th {\n",
       "        text-align: right;\n",
       "    }\n",
       "</style>\n",
       "<table border=\"1\" class=\"dataframe\">\n",
       "  <thead>\n",
       "    <tr style=\"text-align: right;\">\n",
       "      <th></th>\n",
       "      <th>source</th>\n",
       "      <th>target</th>\n",
       "      <th>connected</th>\n",
       "      <th>sum_of_papers</th>\n",
       "      <th>sum_of_neighbors</th>\n",
       "      <th>log_secundary_neighbors</th>\n",
       "      <th>lenght_short_path</th>\n",
       "      <th>clustering_index_sum</th>\n",
       "    </tr>\n",
       "  </thead>\n",
       "  <tbody>\n",
       "    <tr>\n",
       "      <th>0</th>\n",
       "      <td>Michael Barnett 0001</td>\n",
       "      <td>Christian Lengauer</td>\n",
       "      <td>1</td>\n",
       "      <td>57</td>\n",
       "      <td>25</td>\n",
       "      <td>10.244236</td>\n",
       "      <td>1.0</td>\n",
       "      <td>0.320879</td>\n",
       "    </tr>\n",
       "    <tr>\n",
       "      <th>1</th>\n",
       "      <td>Mark Vriesenga</td>\n",
       "      <td>Kalman Peleg</td>\n",
       "      <td>1</td>\n",
       "      <td>11</td>\n",
       "      <td>8</td>\n",
       "      <td>7.544332</td>\n",
       "      <td>1.0</td>\n",
       "      <td>1.400000</td>\n",
       "    </tr>\n",
       "    <tr>\n",
       "      <th>2</th>\n",
       "      <td>Matt Blaze</td>\n",
       "      <td>Joan Feigenbaum</td>\n",
       "      <td>1</td>\n",
       "      <td>78</td>\n",
       "      <td>69</td>\n",
       "      <td>13.227696</td>\n",
       "      <td>1.0</td>\n",
       "      <td>0.314291</td>\n",
       "    </tr>\n",
       "    <tr>\n",
       "      <th>3</th>\n",
       "      <td>Majid Mirmehdi</td>\n",
       "      <td>John F. Haddon</td>\n",
       "      <td>1</td>\n",
       "      <td>35</td>\n",
       "      <td>26</td>\n",
       "      <td>9.679719</td>\n",
       "      <td>1.0</td>\n",
       "      <td>0.644946</td>\n",
       "    </tr>\n",
       "    <tr>\n",
       "      <th>4</th>\n",
       "      <td>Richard Durbin</td>\n",
       "      <td>Erik L. L. Sonnhammer</td>\n",
       "      <td>1</td>\n",
       "      <td>19</td>\n",
       "      <td>25</td>\n",
       "      <td>10.301928</td>\n",
       "      <td>1.0</td>\n",
       "      <td>1.115789</td>\n",
       "    </tr>\n",
       "  </tbody>\n",
       "</table>\n",
       "</div>"
      ],
      "text/plain": [
       "                 source                 target  connected  sum_of_papers  \\\n",
       "0  Michael Barnett 0001     Christian Lengauer          1             57   \n",
       "1        Mark Vriesenga           Kalman Peleg          1             11   \n",
       "2            Matt Blaze        Joan Feigenbaum          1             78   \n",
       "3        Majid Mirmehdi         John F. Haddon          1             35   \n",
       "4        Richard Durbin  Erik L. L. Sonnhammer          1             19   \n",
       "\n",
       "   sum_of_neighbors  log_secundary_neighbors  lenght_short_path  \\\n",
       "0                25                10.244236                1.0   \n",
       "1                 8                 7.544332                1.0   \n",
       "2                69                13.227696                1.0   \n",
       "3                26                 9.679719                1.0   \n",
       "4                25                10.301928                1.0   \n",
       "\n",
       "   clustering_index_sum  \n",
       "0              0.320879  \n",
       "1              1.400000  \n",
       "2              0.314291  \n",
       "3              0.644946  \n",
       "4              1.115789  "
      ]
     },
     "execution_count": 48,
     "metadata": {},
     "output_type": "execute_result"
    }
   ],
   "source": [
    "df_samples = pd.read_csv(\"../Data/sample_features2021-02-08.csv\")\n",
    "df_samples.head()"
   ]
  },
  {
   "cell_type": "code",
   "execution_count": 52,
   "metadata": {},
   "outputs": [
    {
     "name": "stderr",
     "output_type": "stream",
     "text": [
      "100%|██████████| 149257/149257 [00:06<00:00, 23269.41it/s]\n"
     ]
    }
   ],
   "source": [
    "simil = []\n",
    "for index, row in tqdm(df_samples.iterrows(), total=len(df_samples)):\n",
    "    a = svd.transform(X[authors_dict[row['source']]])\n",
    "    b = svd.transform(X[authors_dict[row['target']]])\n",
    "    simil.append(cosine_similarity(a,b)[0][0])"
   ]
  },
  {
   "cell_type": "code",
   "execution_count": 63,
   "metadata": {},
   "outputs": [],
   "source": [
    "df_samples['cos_sim'] = simil"
   ]
  },
  {
   "cell_type": "code",
   "execution_count": 53,
   "metadata": {},
   "outputs": [
    {
     "data": {
      "text/html": [
       "<div>\n",
       "<style scoped>\n",
       "    .dataframe tbody tr th:only-of-type {\n",
       "        vertical-align: middle;\n",
       "    }\n",
       "\n",
       "    .dataframe tbody tr th {\n",
       "        vertical-align: top;\n",
       "    }\n",
       "\n",
       "    .dataframe thead th {\n",
       "        text-align: right;\n",
       "    }\n",
       "</style>\n",
       "<table border=\"1\" class=\"dataframe\">\n",
       "  <thead>\n",
       "    <tr style=\"text-align: right;\">\n",
       "      <th></th>\n",
       "      <th>source</th>\n",
       "      <th>target</th>\n",
       "      <th>connected</th>\n",
       "      <th>sum_of_papers</th>\n",
       "      <th>sum_of_neighbors</th>\n",
       "      <th>log_secundary_neighbors</th>\n",
       "      <th>lenght_short_path</th>\n",
       "      <th>clustering_index_sum</th>\n",
       "    </tr>\n",
       "  </thead>\n",
       "  <tbody>\n",
       "    <tr>\n",
       "      <th>0</th>\n",
       "      <td>Hideaki Takanobu</td>\n",
       "      <td>Kayoko Ohtsuki</td>\n",
       "      <td>1.0</td>\n",
       "      <td>17</td>\n",
       "      <td>34</td>\n",
       "      <td>10.757477</td>\n",
       "      <td>1.0</td>\n",
       "      <td>1.407389</td>\n",
       "    </tr>\n",
       "    <tr>\n",
       "      <th>1</th>\n",
       "      <td>Joseph Douglas Horton</td>\n",
       "      <td>Alejandro López-Ortiz</td>\n",
       "      <td>1.0</td>\n",
       "      <td>26</td>\n",
       "      <td>25</td>\n",
       "      <td>11.075040</td>\n",
       "      <td>1.0</td>\n",
       "      <td>0.752381</td>\n",
       "    </tr>\n",
       "    <tr>\n",
       "      <th>2</th>\n",
       "      <td>Siddhartha R. Dalal</td>\n",
       "      <td>Ashish Jain</td>\n",
       "      <td>1.0</td>\n",
       "      <td>19</td>\n",
       "      <td>11</td>\n",
       "      <td>7.494430</td>\n",
       "      <td>1.0</td>\n",
       "      <td>0.800000</td>\n",
       "    </tr>\n",
       "    <tr>\n",
       "      <th>3</th>\n",
       "      <td>Laurence Melloul</td>\n",
       "      <td>Armando Fox</td>\n",
       "      <td>1.0</td>\n",
       "      <td>21</td>\n",
       "      <td>16</td>\n",
       "      <td>8.034955</td>\n",
       "      <td>1.0</td>\n",
       "      <td>1.153846</td>\n",
       "    </tr>\n",
       "    <tr>\n",
       "      <th>4</th>\n",
       "      <td>Riccardo Bettati</td>\n",
       "      <td>Wei Zhao 0001</td>\n",
       "      <td>1.0</td>\n",
       "      <td>76</td>\n",
       "      <td>25</td>\n",
       "      <td>9.294498</td>\n",
       "      <td>1.0</td>\n",
       "      <td>1.109524</td>\n",
       "    </tr>\n",
       "    <tr>\n",
       "      <th>...</th>\n",
       "      <td>...</td>\n",
       "      <td>...</td>\n",
       "      <td>...</td>\n",
       "      <td>...</td>\n",
       "      <td>...</td>\n",
       "      <td>...</td>\n",
       "      <td>...</td>\n",
       "      <td>...</td>\n",
       "    </tr>\n",
       "    <tr>\n",
       "      <th>38098</th>\n",
       "      <td>Florian Schiel</td>\n",
       "      <td>Walt Truszkowski</td>\n",
       "      <td>0.0</td>\n",
       "      <td>21</td>\n",
       "      <td>10</td>\n",
       "      <td>5.023881</td>\n",
       "      <td>9.0</td>\n",
       "      <td>0.300000</td>\n",
       "    </tr>\n",
       "    <tr>\n",
       "      <th>38099</th>\n",
       "      <td>Goffredo Haus</td>\n",
       "      <td>Mizuho Iwaihara</td>\n",
       "      <td>0.0</td>\n",
       "      <td>10</td>\n",
       "      <td>9</td>\n",
       "      <td>7.339538</td>\n",
       "      <td>6.0</td>\n",
       "      <td>0.321429</td>\n",
       "    </tr>\n",
       "    <tr>\n",
       "      <th>38100</th>\n",
       "      <td>Joe L. Armstrong</td>\n",
       "      <td>George T. Duncan</td>\n",
       "      <td>0.0</td>\n",
       "      <td>13</td>\n",
       "      <td>0</td>\n",
       "      <td>0.000000</td>\n",
       "      <td>NaN</td>\n",
       "      <td>0.000000</td>\n",
       "    </tr>\n",
       "    <tr>\n",
       "      <th>38101</th>\n",
       "      <td>Wayne C. Boncyk</td>\n",
       "      <td>Mike Hinchey</td>\n",
       "      <td>0.0</td>\n",
       "      <td>6</td>\n",
       "      <td>2</td>\n",
       "      <td>2.197225</td>\n",
       "      <td>NaN</td>\n",
       "      <td>1.000000</td>\n",
       "    </tr>\n",
       "    <tr>\n",
       "      <th>38102</th>\n",
       "      <td>Anantha Bangalore</td>\n",
       "      <td>Ronald J. Vetter</td>\n",
       "      <td>0.0</td>\n",
       "      <td>26</td>\n",
       "      <td>5</td>\n",
       "      <td>3.401197</td>\n",
       "      <td>NaN</td>\n",
       "      <td>0.100000</td>\n",
       "    </tr>\n",
       "  </tbody>\n",
       "</table>\n",
       "<p>38103 rows × 8 columns</p>\n",
       "</div>"
      ],
      "text/plain": [
       "                      source                 target  connected  sum_of_papers  \\\n",
       "0           Hideaki Takanobu         Kayoko Ohtsuki        1.0             17   \n",
       "1      Joseph Douglas Horton  Alejandro López-Ortiz        1.0             26   \n",
       "2        Siddhartha R. Dalal            Ashish Jain        1.0             19   \n",
       "3           Laurence Melloul            Armando Fox        1.0             21   \n",
       "4           Riccardo Bettati          Wei Zhao 0001        1.0             76   \n",
       "...                      ...                    ...        ...            ...   \n",
       "38098         Florian Schiel       Walt Truszkowski        0.0             21   \n",
       "38099          Goffredo Haus        Mizuho Iwaihara        0.0             10   \n",
       "38100       Joe L. Armstrong       George T. Duncan        0.0             13   \n",
       "38101        Wayne C. Boncyk           Mike Hinchey        0.0              6   \n",
       "38102      Anantha Bangalore       Ronald J. Vetter        0.0             26   \n",
       "\n",
       "       sum_of_neighbors  log_secundary_neighbors  lenght_short_path  \\\n",
       "0                    34                10.757477                1.0   \n",
       "1                    25                11.075040                1.0   \n",
       "2                    11                 7.494430                1.0   \n",
       "3                    16                 8.034955                1.0   \n",
       "4                    25                 9.294498                1.0   \n",
       "...                 ...                      ...                ...   \n",
       "38098                10                 5.023881                9.0   \n",
       "38099                 9                 7.339538                6.0   \n",
       "38100                 0                 0.000000                NaN   \n",
       "38101                 2                 2.197225                NaN   \n",
       "38102                 5                 3.401197                NaN   \n",
       "\n",
       "       clustering_index_sum  \n",
       "0                  1.407389  \n",
       "1                  0.752381  \n",
       "2                  0.800000  \n",
       "3                  1.153846  \n",
       "4                  1.109524  \n",
       "...                     ...  \n",
       "38098              0.300000  \n",
       "38099              0.321429  \n",
       "38100              0.000000  \n",
       "38101              1.000000  \n",
       "38102              0.100000  \n",
       "\n",
       "[38103 rows x 8 columns]"
      ]
     },
     "execution_count": 53,
     "metadata": {},
     "output_type": "execute_result"
    }
   ],
   "source": [
    "df_samples_t = pd.read_csv(\"../Data/sample_features_test2021-01-06.csv\")\n",
    "df_samples_t = df_samples_t.drop(['Unnamed: 0'], axis=1)\n",
    "df_samples_t"
   ]
  },
  {
   "cell_type": "code",
   "execution_count": 45,
   "metadata": {},
   "outputs": [
    {
     "name": "stderr",
     "output_type": "stream",
     "text": [
      "100%|██████████| 38103/38103 [00:01<00:00, 22561.01it/s]\n"
     ]
    }
   ],
   "source": [
    "simil = []\n",
    "for index, row in tqdm(df_samples_t.iterrows(), total=len(df_samples_t)):\n",
    "    a = svd.transform(X[authors_dict[row['source']]])\n",
    "    b = svd.transform(X[authors_dict[row['target']]])\n",
    "    simil.append(cosine_similarity(a,b)[0][0])"
   ]
  },
  {
   "cell_type": "code",
   "execution_count": 67,
   "metadata": {},
   "outputs": [],
   "source": [
    "df_samples_t['cos_sim'] = simil"
   ]
  },
  {
   "cell_type": "code",
   "execution_count": 69,
   "metadata": {},
   "outputs": [],
   "source": [
    "df_samples.to_csv('training.csv', index=False)"
   ]
  },
  {
   "cell_type": "code",
   "execution_count": 70,
   "metadata": {},
   "outputs": [],
   "source": [
    "df_samples_t.to_csv('test.csv', index=False)"
   ]
  }
 ],
 "metadata": {
  "colab": {
   "collapsed_sections": [],
   "name": "Authors vs papers.ipynb",
   "provenance": [],
   "toc_visible": true
  },
  "kernelspec": {
   "display_name": "Python 3",
   "language": "python",
   "name": "python3"
  },
  "language_info": {
   "codemirror_mode": {
    "name": "ipython",
    "version": 3
   },
   "file_extension": ".py",
   "mimetype": "text/x-python",
   "name": "python",
   "nbconvert_exporter": "python",
   "pygments_lexer": "ipython3",
   "version": "3.7.3"
  }
 },
 "nbformat": 4,
 "nbformat_minor": 1
}
